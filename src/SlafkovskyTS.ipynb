{
 "cells": [
  {
   "cell_type": "markdown",
   "id": "426fd2b0-3162-46d9-9544-d90f5b35f056",
   "metadata": {},
   "source": [
    "# Time-series Analysis of Point Production for Draft Eligible Players"
   ]
  },
  {
   "cell_type": "markdown",
   "id": "6bed3426-6629-4cab-851d-f264dadd49d0",
   "metadata": {},
   "source": [
    "The following project will be an attempt at viewing the relationship between late season point production and draft position."
   ]
  },
  {
   "cell_type": "markdown",
   "id": "9a5ad65a-435b-4720-9360-953149be12c9",
   "metadata": {},
   "source": [
    "## Load Data"
   ]
  },
  {
   "cell_type": "code",
   "execution_count": 96,
   "id": "a2a8e3c9-f4f3-44ec-8dbd-0baf6c8b058a",
   "metadata": {},
   "outputs": [],
   "source": [
    "import pandas as pd\n",
    "import numpy as np\n",
    "import matplotlib.pyplot as plt\n",
    "import seaborn as sns\n",
    "from datetime import datetime"
   ]
  },
  {
   "cell_type": "code",
   "execution_count": 97,
   "id": "095976aa-b892-42a4-946c-e2202db0baa5",
   "metadata": {},
   "outputs": [
    {
     "data": {
      "text/html": [
       "<div>\n",
       "<style scoped>\n",
       "    .dataframe tbody tr th:only-of-type {\n",
       "        vertical-align: middle;\n",
       "    }\n",
       "\n",
       "    .dataframe tbody tr th {\n",
       "        vertical-align: top;\n",
       "    }\n",
       "\n",
       "    .dataframe thead th {\n",
       "        text-align: right;\n",
       "    }\n",
       "</style>\n",
       "<table border=\"1\" class=\"dataframe\">\n",
       "  <thead>\n",
       "    <tr style=\"text-align: right;\">\n",
       "      <th></th>\n",
       "      <th>Date</th>\n",
       "      <th>League</th>\n",
       "      <th>Team</th>\n",
       "      <th>Opponent</th>\n",
       "      <th>Result</th>\n",
       "      <th>G</th>\n",
       "      <th>A</th>\n",
       "      <th>TP</th>\n",
       "      <th>PIM</th>\n",
       "      <th>+/-</th>\n",
       "      <th>SOG</th>\n",
       "      <th>PPG</th>\n",
       "      <th>SHG</th>\n",
       "      <th>TOI</th>\n",
       "    </tr>\n",
       "  </thead>\n",
       "  <tbody>\n",
       "    <tr>\n",
       "      <th>0</th>\n",
       "      <td>2022-05-26T20:20:00+0300</td>\n",
       "      <td>WC</td>\n",
       "      <td>Slovakia</td>\n",
       "      <td>@ Finland</td>\n",
       "      <td>L 2-4</td>\n",
       "      <td>0</td>\n",
       "      <td>0</td>\n",
       "      <td>0</td>\n",
       "      <td>0</td>\n",
       "      <td>-1</td>\n",
       "      <td>4</td>\n",
       "      <td>0</td>\n",
       "      <td>0</td>\n",
       "      <td>20:22</td>\n",
       "    </tr>\n",
       "    <tr>\n",
       "      <th>1</th>\n",
       "      <td>2022-05-24T16:20:00+0300</td>\n",
       "      <td>WC</td>\n",
       "      <td>Slovakia</td>\n",
       "      <td>vs Denmark</td>\n",
       "      <td>W 7-1</td>\n",
       "      <td>1</td>\n",
       "      <td>1</td>\n",
       "      <td>2</td>\n",
       "      <td>0</td>\n",
       "      <td>3</td>\n",
       "      <td>6</td>\n",
       "      <td>0</td>\n",
       "      <td>0</td>\n",
       "      <td>19:58</td>\n",
       "    </tr>\n",
       "    <tr>\n",
       "      <th>2</th>\n",
       "      <td>2022-05-21T20:20:00+0300</td>\n",
       "      <td>WC</td>\n",
       "      <td>Slovakia</td>\n",
       "      <td>@ Italy</td>\n",
       "      <td>W 3-1</td>\n",
       "      <td>0</td>\n",
       "      <td>2</td>\n",
       "      <td>2</td>\n",
       "      <td>2</td>\n",
       "      <td>2</td>\n",
       "      <td>2</td>\n",
       "      <td>0</td>\n",
       "      <td>0</td>\n",
       "      <td>21:57</td>\n",
       "    </tr>\n",
       "    <tr>\n",
       "      <th>3</th>\n",
       "      <td>2022-05-20T20:20:00+0300</td>\n",
       "      <td>WC</td>\n",
       "      <td>Slovakia</td>\n",
       "      <td>@ Kazakhstan</td>\n",
       "      <td>W 4-3</td>\n",
       "      <td>1</td>\n",
       "      <td>1</td>\n",
       "      <td>2</td>\n",
       "      <td>0</td>\n",
       "      <td>0</td>\n",
       "      <td>4</td>\n",
       "      <td>0</td>\n",
       "      <td>0</td>\n",
       "      <td>23:14</td>\n",
       "    </tr>\n",
       "    <tr>\n",
       "      <th>4</th>\n",
       "      <td>2022-05-18T20:20:00+0300</td>\n",
       "      <td>WC</td>\n",
       "      <td>Slovakia</td>\n",
       "      <td>@ Switzerland</td>\n",
       "      <td>L 3-5</td>\n",
       "      <td>1</td>\n",
       "      <td>0</td>\n",
       "      <td>1</td>\n",
       "      <td>0</td>\n",
       "      <td>-1</td>\n",
       "      <td>3</td>\n",
       "      <td>0</td>\n",
       "      <td>0</td>\n",
       "      <td>19:44</td>\n",
       "    </tr>\n",
       "    <tr>\n",
       "      <th>...</th>\n",
       "      <td>...</td>\n",
       "      <td>...</td>\n",
       "      <td>...</td>\n",
       "      <td>...</td>\n",
       "      <td>...</td>\n",
       "      <td>...</td>\n",
       "      <td>...</td>\n",
       "      <td>...</td>\n",
       "      <td>...</td>\n",
       "      <td>...</td>\n",
       "      <td>...</td>\n",
       "      <td>...</td>\n",
       "      <td>...</td>\n",
       "      <td>...</td>\n",
       "    </tr>\n",
       "    <tr>\n",
       "      <th>72</th>\n",
       "      <td>2021-09-18T18:30:00+0300</td>\n",
       "      <td>Liiga</td>\n",
       "      <td>TPS</td>\n",
       "      <td>vs Lukko</td>\n",
       "      <td>W 1-0</td>\n",
       "      <td>0</td>\n",
       "      <td>1</td>\n",
       "      <td>1</td>\n",
       "      <td>2</td>\n",
       "      <td>1</td>\n",
       "      <td>4</td>\n",
       "      <td>0</td>\n",
       "      <td>0</td>\n",
       "      <td>19:52</td>\n",
       "    </tr>\n",
       "    <tr>\n",
       "      <th>73</th>\n",
       "      <td>2021-09-17T18:30:00+0300</td>\n",
       "      <td>Liiga</td>\n",
       "      <td>TPS</td>\n",
       "      <td>@ Pelicans</td>\n",
       "      <td>L 0-1</td>\n",
       "      <td>0</td>\n",
       "      <td>0</td>\n",
       "      <td>0</td>\n",
       "      <td>0</td>\n",
       "      <td>0</td>\n",
       "      <td>5</td>\n",
       "      <td>0</td>\n",
       "      <td>0</td>\n",
       "      <td>19:58</td>\n",
       "    </tr>\n",
       "    <tr>\n",
       "      <th>74</th>\n",
       "      <td>2021-09-15T18:30:00+0300</td>\n",
       "      <td>Liiga</td>\n",
       "      <td>TPS</td>\n",
       "      <td>@ JYP</td>\n",
       "      <td>W 2-1</td>\n",
       "      <td>0</td>\n",
       "      <td>0</td>\n",
       "      <td>0</td>\n",
       "      <td>0</td>\n",
       "      <td>0</td>\n",
       "      <td>2</td>\n",
       "      <td>0</td>\n",
       "      <td>0</td>\n",
       "      <td>16:25</td>\n",
       "    </tr>\n",
       "    <tr>\n",
       "      <th>75</th>\n",
       "      <td>2021-09-11T12:30:00+0300</td>\n",
       "      <td>U20 SM-sarja</td>\n",
       "      <td>TPS U20</td>\n",
       "      <td>vs KooKoo U20</td>\n",
       "      <td>W 3-1</td>\n",
       "      <td>0</td>\n",
       "      <td>0</td>\n",
       "      <td>0</td>\n",
       "      <td>0</td>\n",
       "      <td>0</td>\n",
       "      <td>11</td>\n",
       "      <td>0</td>\n",
       "      <td>0</td>\n",
       "      <td>20:46</td>\n",
       "    </tr>\n",
       "    <tr>\n",
       "      <th>76</th>\n",
       "      <td>2021-09-10T18:30:00+0300</td>\n",
       "      <td>U20 SM-sarja</td>\n",
       "      <td>TPS U20</td>\n",
       "      <td>vs Sport U20</td>\n",
       "      <td>W 5-2</td>\n",
       "      <td>0</td>\n",
       "      <td>2</td>\n",
       "      <td>2</td>\n",
       "      <td>0</td>\n",
       "      <td>3</td>\n",
       "      <td>5</td>\n",
       "      <td>0</td>\n",
       "      <td>0</td>\n",
       "      <td>19:07</td>\n",
       "    </tr>\n",
       "  </tbody>\n",
       "</table>\n",
       "<p>77 rows × 14 columns</p>\n",
       "</div>"
      ],
      "text/plain": [
       "                        Date         League      Team       Opponent Result  \\\n",
       "0   2022-05-26T20:20:00+0300             WC  Slovakia      @ Finland  L 2-4   \n",
       "1   2022-05-24T16:20:00+0300             WC  Slovakia     vs Denmark  W 7-1   \n",
       "2   2022-05-21T20:20:00+0300             WC  Slovakia        @ Italy  W 3-1   \n",
       "3   2022-05-20T20:20:00+0300             WC  Slovakia   @ Kazakhstan  W 4-3   \n",
       "4   2022-05-18T20:20:00+0300             WC  Slovakia  @ Switzerland  L 3-5   \n",
       "..                       ...            ...       ...            ...    ...   \n",
       "72  2021-09-18T18:30:00+0300          Liiga       TPS       vs Lukko  W 1-0   \n",
       "73  2021-09-17T18:30:00+0300          Liiga       TPS     @ Pelicans  L 0-1   \n",
       "74  2021-09-15T18:30:00+0300          Liiga       TPS          @ JYP  W 2-1   \n",
       "75  2021-09-11T12:30:00+0300   U20 SM-sarja   TPS U20  vs KooKoo U20  W 3-1   \n",
       "76  2021-09-10T18:30:00+0300   U20 SM-sarja   TPS U20   vs Sport U20  W 5-2   \n",
       "\n",
       "    G  A  TP  PIM  +/-  SOG  PPG  SHG    TOI  \n",
       "0   0  0   0    0   -1    4    0    0  20:22  \n",
       "1   1  1   2    0    3    6    0    0  19:58  \n",
       "2   0  2   2    2    2    2    0    0  21:57  \n",
       "3   1  1   2    0    0    4    0    0  23:14  \n",
       "4   1  0   1    0   -1    3    0    0  19:44  \n",
       ".. .. ..  ..  ...  ...  ...  ...  ...    ...  \n",
       "72  0  1   1    2    1    4    0    0  19:52  \n",
       "73  0  0   0    0    0    5    0    0  19:58  \n",
       "74  0  0   0    0    0    2    0    0  16:25  \n",
       "75  0  0   0    0    0   11    0    0  20:46  \n",
       "76  0  2   2    0    3    5    0    0  19:07  \n",
       "\n",
       "[77 rows x 14 columns]"
      ]
     },
     "execution_count": 97,
     "metadata": {},
     "output_type": "execute_result"
    }
   ],
   "source": [
    "Slaf = pd.read_csv('Slafkovsky_Gamelogs.csv')\n",
    "Slaf"
   ]
  },
  {
   "cell_type": "code",
   "execution_count": 98,
   "id": "d865c7f6-71a7-4f40-bb46-600002f5d16e",
   "metadata": {},
   "outputs": [],
   "source": [
    "# List comprehension to strip string after Year, month and date\n",
    "\n",
    "lst = []\n",
    "\n",
    "for i in Slaf['Date']:\n",
    "    lst.append(i[:10])"
   ]
  },
  {
   "cell_type": "code",
   "execution_count": 99,
   "id": "52f0f20e-8879-4ec0-9f6d-491ff2ff3822",
   "metadata": {},
   "outputs": [],
   "source": [
    "# Replace Date column with lst\n",
    "\n",
    "Slaf['Date'] = lst"
   ]
  },
  {
   "cell_type": "code",
   "execution_count": 121,
   "id": "144ea45e-5b36-4a9c-b8ff-02094b4db493",
   "metadata": {},
   "outputs": [],
   "source": [
    "# Set up Moving Average Timeseries df with dates and points\n",
    "\n",
    "SlafPts = Slaf[['Date', 'TP']]"
   ]
  },
  {
   "cell_type": "code",
   "execution_count": 122,
   "id": "09aa5c7b-2fa1-4d7a-b894-b58fa6fc773e",
   "metadata": {},
   "outputs": [
    {
     "data": {
      "text/html": [
       "<div>\n",
       "<style scoped>\n",
       "    .dataframe tbody tr th:only-of-type {\n",
       "        vertical-align: middle;\n",
       "    }\n",
       "\n",
       "    .dataframe tbody tr th {\n",
       "        vertical-align: top;\n",
       "    }\n",
       "\n",
       "    .dataframe thead th {\n",
       "        text-align: right;\n",
       "    }\n",
       "</style>\n",
       "<table border=\"1\" class=\"dataframe\">\n",
       "  <thead>\n",
       "    <tr style=\"text-align: right;\">\n",
       "      <th></th>\n",
       "      <th>Date</th>\n",
       "      <th>TP</th>\n",
       "    </tr>\n",
       "  </thead>\n",
       "  <tbody>\n",
       "    <tr>\n",
       "      <th>0</th>\n",
       "      <td>2022-05-26</td>\n",
       "      <td>0</td>\n",
       "    </tr>\n",
       "    <tr>\n",
       "      <th>1</th>\n",
       "      <td>2022-05-24</td>\n",
       "      <td>2</td>\n",
       "    </tr>\n",
       "    <tr>\n",
       "      <th>2</th>\n",
       "      <td>2022-05-21</td>\n",
       "      <td>2</td>\n",
       "    </tr>\n",
       "    <tr>\n",
       "      <th>3</th>\n",
       "      <td>2022-05-20</td>\n",
       "      <td>2</td>\n",
       "    </tr>\n",
       "    <tr>\n",
       "      <th>4</th>\n",
       "      <td>2022-05-18</td>\n",
       "      <td>1</td>\n",
       "    </tr>\n",
       "    <tr>\n",
       "      <th>...</th>\n",
       "      <td>...</td>\n",
       "      <td>...</td>\n",
       "    </tr>\n",
       "    <tr>\n",
       "      <th>72</th>\n",
       "      <td>2021-09-18</td>\n",
       "      <td>1</td>\n",
       "    </tr>\n",
       "    <tr>\n",
       "      <th>73</th>\n",
       "      <td>2021-09-17</td>\n",
       "      <td>0</td>\n",
       "    </tr>\n",
       "    <tr>\n",
       "      <th>74</th>\n",
       "      <td>2021-09-15</td>\n",
       "      <td>0</td>\n",
       "    </tr>\n",
       "    <tr>\n",
       "      <th>75</th>\n",
       "      <td>2021-09-11</td>\n",
       "      <td>0</td>\n",
       "    </tr>\n",
       "    <tr>\n",
       "      <th>76</th>\n",
       "      <td>2021-09-10</td>\n",
       "      <td>2</td>\n",
       "    </tr>\n",
       "  </tbody>\n",
       "</table>\n",
       "<p>77 rows × 2 columns</p>\n",
       "</div>"
      ],
      "text/plain": [
       "          Date  TP\n",
       "0   2022-05-26   0\n",
       "1   2022-05-24   2\n",
       "2   2022-05-21   2\n",
       "3   2022-05-20   2\n",
       "4   2022-05-18   1\n",
       "..         ...  ..\n",
       "72  2021-09-18   1\n",
       "73  2021-09-17   0\n",
       "74  2021-09-15   0\n",
       "75  2021-09-11   0\n",
       "76  2021-09-10   2\n",
       "\n",
       "[77 rows x 2 columns]"
      ]
     },
     "execution_count": 122,
     "metadata": {},
     "output_type": "execute_result"
    }
   ],
   "source": [
    "SlafPts"
   ]
  },
  {
   "cell_type": "code",
   "execution_count": 123,
   "id": "69ef01f8-ea04-4c3a-ad5e-f6803206ece6",
   "metadata": {},
   "outputs": [
    {
     "name": "stderr",
     "output_type": "stream",
     "text": [
      "/var/folders/cl/dg9768bj6ys0prn_4p_bbftw0000gn/T/ipykernel_42895/388633333.py:3: SettingWithCopyWarning: \n",
      "A value is trying to be set on a copy of a slice from a DataFrame.\n",
      "Try using .loc[row_indexer,col_indexer] = value instead\n",
      "\n",
      "See the caveats in the documentation: https://pandas.pydata.org/pandas-docs/stable/user_guide/indexing.html#returning-a-view-versus-a-copy\n",
      "  SlafPts.loc[:, 'TP'] = SlafPts['TP'].cumsum()[::-1]\n"
     ]
    }
   ],
   "source": [
    "# Get the cumulative sum of pts scored from 1st game to last\n",
    "\n",
    "SlafPts.loc[:, 'TP'] = SlafPts['TP'].cumsum()[::-1]"
   ]
  },
  {
   "cell_type": "code",
   "execution_count": 125,
   "id": "05162eb4-94a6-4dd1-8996-127df0fd025b",
   "metadata": {},
   "outputs": [
    {
     "data": {
      "text/plain": [
       "Text(0, 0.5, 'Sum of Total Points')"
      ]
     },
     "execution_count": 125,
     "metadata": {},
     "output_type": "execute_result"
    },
    {
     "data": {
      "text/plain": [
       "<Figure size 640x480 with 0 Axes>"
      ]
     },
     "metadata": {},
     "output_type": "display_data"
    },
    {
     "data": {
      "image/png": "[encoded data removed]",
      "text/plain": [
       "<Figure size 640x480 with 1 Axes>"
      ]
     },
     "metadata": {},
     "output_type": "display_data"
    }
   ],
   "source": [
    "# Plot the timeseries\n",
    "\n",
    "fig = plt.figure()\n",
    "SlafPts.plot()\n",
    "fig.suptitle('Cumulative Points Scored', fontsize=20)\n",
    "plt.xlabel('Game Logs', fontsize=18)\n",
    "plt.ylabel('Sum of Total Points', fontsize=16)"
   ]
  },
  {
   "cell_type": "markdown",
   "id": "45d825dc-6b57-4a0b-9496-53e2ccb8a858",
   "metadata": {},
   "source": [
    "### Get a Rolling Average view"
   ]
  },
  {
   "cell_type": "code",
   "execution_count": 135,
   "id": "cdaefec1-2d96-40f8-9b14-f0d27066a3f8",
   "metadata": {},
   "outputs": [
    {
     "name": "stderr",
     "output_type": "stream",
     "text": [
      "/var/folders/cl/dg9768bj6ys0prn_4p_bbftw0000gn/T/ipykernel_42895/573390683.py:3: FutureWarning: Dropping of nuisance columns in rolling operations is deprecated; in a future version this will raise TypeError. Select only valid columns before calling the operation. Dropped columns were Index(['Date'], dtype='object')\n",
      "  rolling_mean = rolling.mean()\n"
     ]
    }
   ],
   "source": [
    "# Tail-rolling average transform\n",
    "rolling = SlafPts.rolling(window=5)\n",
    "rolling_mean = rolling.mean()"
   ]
  },
  {
   "cell_type": "code",
   "execution_count": 136,
   "id": "ef14f0ef-6929-4b6d-83c7-7bd39d85599f",
   "metadata": {},
   "outputs": [
    {
     "data": {
      "image/png": "[encoded data removed]",
      "text/plain": [
       "<Figure size 640x480 with 1 Axes>"
      ]
     },
     "metadata": {},
     "output_type": "display_data"
    },
    {
     "data": {
      "image/png": "[encoded data removed]",
      "text/plain": [
       "<Figure size 640x480 with 1 Axes>"
      ]
     },
     "metadata": {},
     "output_type": "display_data"
    },
    {
     "data": {
      "text/plain": [
       "<Figure size 640x480 with 0 Axes>"
      ]
     },
     "metadata": {},
     "output_type": "display_data"
    }
   ],
   "source": [
    "# plot original and transformed dataset\n",
    "SlafPts.plot()\n",
    "rolling_mean.plot(color='red')\n",
    "plt.show()\n",
    "plt.tight_layout()"
   ]
  },
  {
   "cell_type": "code",
   "execution_count": null,
   "id": "b864a423-5b01-48ac-a02c-07de2a981dc8",
   "metadata": {},
   "outputs": [],
   "source": []
  }
 ],
 "metadata": {
  "kernelspec": {
   "display_name": "Python 3 (ipykernel)",
   "language": "python",
   "name": "python3"
  },
  "language_info": {
   "codemirror_mode": {
    "name": "ipython",
    "version": 3
   },
   "file_extension": ".py",
   "mimetype": "text/x-python",
   "name": "python",
   "nbconvert_exporter": "python",
   "pygments_lexer": "ipython3",
   "version": "3.9.12"
  }
 },
 "nbformat": 4,
 "nbformat_minor": 5
}
